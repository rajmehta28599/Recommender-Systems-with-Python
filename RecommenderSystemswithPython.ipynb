{
  "nbformat": 4,
  "nbformat_minor": 0,
  "metadata": {
    "colab": {
      "name": "RecommenderSystemswithPython.ipynb",
      "provenance": []
    },
    "kernelspec": {
      "name": "python3",
      "display_name": "Python 3"
    }
  },
  "cells": [
    {
      "cell_type": "markdown",
      "metadata": {
        "id": "8LqWh6Cw1xuK",
        "colab_type": "text"
      },
      "source": [
        "___\n",
        "# Recommender Systems with Python\n",
        "Welcome to the code notebook for Recommender Systems with Python. In this lecture we will develop basic recommendation systems using Python and pandas. There is another notebook: *Advanced Recommender Systems with Python*. That notebook goes into more detail with the same data set.\n",
        "\n",
        "In this notebook, we will focus on providing a basic recommendation system by suggesting items that are most similar to a particular item, in this case, movies. Keep in mind, this is not a true robust recommendation system, to describe it more accurately,it just tells you what movies/items are most similar to your movie choice.\n",
        "\n",
        "There is no project for this topic, instead you have the option to work through the advanced lecture version of this notebook (totally optional!).\n",
        "\n",
        "Let's get started!\n",
        "\n",
        "## Import Libraries"
      ]
    },
    {
      "cell_type": "code",
      "metadata": {
        "id": "dhe8MFaa1giC",
        "colab_type": "code",
        "colab": {}
      },
      "source": [
        "import numpy as np\n",
        "import pandas as pd"
      ],
      "execution_count": 1,
      "outputs": []
    },
    {
      "cell_type": "markdown",
      "metadata": {
        "id": "wXHjdgD12Bj9",
        "colab_type": "text"
      },
      "source": [
        "## Get the Data"
      ]
    },
    {
      "cell_type": "code",
      "metadata": {
        "id": "xMuTycB_2EL5",
        "colab_type": "code",
        "colab": {}
      },
      "source": [
        "column_names = ['user_id', 'item_id', 'rating', 'timestamp']\n",
        "df = pd.read_csv('u.data', sep='\\t', names=column_names)"
      ],
      "execution_count": null,
      "outputs": []
    },
    {
      "cell_type": "code",
      "metadata": {
        "id": "2mOWXdF_2GoO",
        "colab_type": "code",
        "colab": {}
      },
      "source": [
        "df.head()"
      ],
      "execution_count": null,
      "outputs": []
    },
    {
      "cell_type": "markdown",
      "metadata": {
        "id": "M-wUke4b2JOD",
        "colab_type": "text"
      },
      "source": [
        "Now let's get the movie titles:"
      ]
    },
    {
      "cell_type": "code",
      "metadata": {
        "id": "S7gPQsxv2J8_",
        "colab_type": "code",
        "colab": {}
      },
      "source": [
        "movie_titles = pd.read_csv(\"Movie_Id_Titles\")\n",
        "movie_titles.head()"
      ],
      "execution_count": null,
      "outputs": []
    },
    {
      "cell_type": "markdown",
      "metadata": {
        "id": "P9bHgSol2MqF",
        "colab_type": "text"
      },
      "source": [
        "We can merge them together:"
      ]
    },
    {
      "cell_type": "code",
      "metadata": {
        "id": "sfuPOa622Xto",
        "colab_type": "code",
        "colab": {}
      },
      "source": [
        "df = pd.merge(df,movie_titles,on='item_id')\n",
        "df.head()"
      ],
      "execution_count": null,
      "outputs": []
    },
    {
      "cell_type": "markdown",
      "metadata": {
        "id": "xQ77brZh2Y7-",
        "colab_type": "text"
      },
      "source": [
        "# EDA\n",
        "\n",
        "Let's explore the data a bit and get a look at some of the best rated movies.\n",
        "\n",
        "## Visualization Imports\n"
      ]
    },
    {
      "cell_type": "code",
      "metadata": {
        "id": "42DzF7o32jmW",
        "colab_type": "code",
        "colab": {}
      },
      "source": [
        "import matplotlib.pyplot as plt\n",
        "import seaborn as sns\n",
        "sns.set_style('white')\n",
        "%matplotlib inline"
      ],
      "execution_count": null,
      "outputs": []
    },
    {
      "cell_type": "markdown",
      "metadata": {
        "id": "dcl1ApO82jJ1",
        "colab_type": "text"
      },
      "source": [
        "Let's create a ratings dataframe with average rating and number of ratings:"
      ]
    },
    {
      "cell_type": "code",
      "metadata": {
        "id": "hTZPYUGF2oPp",
        "colab_type": "code",
        "colab": {}
      },
      "source": [
        "df.groupby('title')['rating'].mean().sort_values(ascending=False).head()"
      ],
      "execution_count": null,
      "outputs": []
    },
    {
      "cell_type": "code",
      "metadata": {
        "id": "IfY1Ant92q2N",
        "colab_type": "code",
        "colab": {}
      },
      "source": [
        "df.groupby('title')['rating'].count().sort_values(ascending=False).head()"
      ],
      "execution_count": null,
      "outputs": []
    },
    {
      "cell_type": "code",
      "metadata": {
        "id": "nEg0y4KQ2t2F",
        "colab_type": "code",
        "colab": {}
      },
      "source": [
        "ratings = pd.DataFrame(df.groupby('title')['rating'].mean())\n",
        "ratings.head()"
      ],
      "execution_count": null,
      "outputs": []
    },
    {
      "cell_type": "markdown",
      "metadata": {
        "id": "BrXqBnGS2zHW",
        "colab_type": "text"
      },
      "source": [
        "Now set the number of ratings column:"
      ]
    },
    {
      "cell_type": "code",
      "metadata": {
        "id": "aX1rMjbx21UT",
        "colab_type": "code",
        "colab": {}
      },
      "source": [
        "ratings['num of ratings'] = pd.DataFrame(df.groupby('title')['rating'].count())\n",
        "ratings.head()"
      ],
      "execution_count": null,
      "outputs": []
    },
    {
      "cell_type": "markdown",
      "metadata": {
        "id": "Wq-c2Z4m2-NO",
        "colab_type": "text"
      },
      "source": [
        "Now a few histograms:"
      ]
    },
    {
      "cell_type": "code",
      "metadata": {
        "id": "tddpUc6q2-72",
        "colab_type": "code",
        "colab": {}
      },
      "source": [
        "plt.figure(figsize=(10,4))\n",
        "ratings['num of ratings'].hist(bins=70)"
      ],
      "execution_count": null,
      "outputs": []
    },
    {
      "cell_type": "code",
      "metadata": {
        "id": "mMcBAKuA3CTR",
        "colab_type": "code",
        "colab": {}
      },
      "source": [
        "plt.figure(figsize=(10,4))\n",
        "ratings['rating'].hist(bins=70)"
      ],
      "execution_count": null,
      "outputs": []
    },
    {
      "cell_type": "code",
      "metadata": {
        "id": "G_WDp9p03ETv",
        "colab_type": "code",
        "colab": {}
      },
      "source": [
        "sns.jointplot(x='rating',y='num of ratings',data=ratings,alpha=0.5)"
      ],
      "execution_count": null,
      "outputs": []
    },
    {
      "cell_type": "markdown",
      "metadata": {
        "id": "QohrnHqQ3I3Y",
        "colab_type": "text"
      },
      "source": [
        "Okay! Now that we have a general idea of what the data looks like, let's move on to creating a simple recommendation system:"
      ]
    },
    {
      "cell_type": "markdown",
      "metadata": {
        "id": "mrxKGTNU3Kq9",
        "colab_type": "text"
      },
      "source": [
        "## Recommending Similar Movies\n",
        "Now let's create a matrix that has the user ids on one access and the movie title on another axis. Each cell will then consist of the rating the user gave to that movie. Note there will be a lot of NaN values, because most people have not seen most of the movies."
      ]
    },
    {
      "cell_type": "code",
      "metadata": {
        "id": "cCWmUSzq3SOv",
        "colab_type": "code",
        "colab": {}
      },
      "source": [
        "moviemat = df.pivot_table(index='user_id',columns='title',values='rating')\n",
        "moviemat.head()"
      ],
      "execution_count": null,
      "outputs": []
    },
    {
      "cell_type": "markdown",
      "metadata": {
        "id": "1kR7YCLO3R8F",
        "colab_type": "text"
      },
      "source": [
        "Most rated movie:"
      ]
    },
    {
      "cell_type": "code",
      "metadata": {
        "id": "pNOBvf6t3Wzv",
        "colab_type": "code",
        "colab": {}
      },
      "source": [
        "ratings.sort_values('num of ratings',ascending=False).head(10)"
      ],
      "execution_count": null,
      "outputs": []
    },
    {
      "cell_type": "markdown",
      "metadata": {
        "id": "da2EWNXp3Znj",
        "colab_type": "text"
      },
      "source": [
        "Let's choose two movies: starwars, a sci-fi movie. And Liar Liar, a comedy."
      ]
    },
    {
      "cell_type": "code",
      "metadata": {
        "id": "iTcW3LQF3bh7",
        "colab_type": "code",
        "colab": {}
      },
      "source": [
        "ratings.head()"
      ],
      "execution_count": null,
      "outputs": []
    },
    {
      "cell_type": "markdown",
      "metadata": {
        "id": "e76LHkL33dsv",
        "colab_type": "text"
      },
      "source": [
        "Now let's grab the user ratings for those two movies:"
      ]
    },
    {
      "cell_type": "code",
      "metadata": {
        "id": "fgx6xQil3faj",
        "colab_type": "code",
        "colab": {}
      },
      "source": [
        "starwars_user_ratings = moviemat['Star Wars (1977)']\n",
        "liarliar_user_ratings = moviemat['Liar Liar (1997)']\n",
        "starwars_user_ratings.head()"
      ],
      "execution_count": null,
      "outputs": []
    },
    {
      "cell_type": "markdown",
      "metadata": {
        "id": "E-7uL0bM3h37",
        "colab_type": "text"
      },
      "source": [
        "We can then use corrwith() method to get correlations between two pandas series:"
      ]
    },
    {
      "cell_type": "code",
      "metadata": {
        "id": "AeTWD9UC3mUF",
        "colab_type": "code",
        "colab": {}
      },
      "source": [
        "similar_to_starwars = moviemat.corrwith(starwars_user_ratings)\n",
        "similar_to_liarliar = moviemat.corrwith(liarliar_user_ratings)"
      ],
      "execution_count": null,
      "outputs": []
    },
    {
      "cell_type": "markdown",
      "metadata": {
        "id": "0ErpMlVb3ocB",
        "colab_type": "text"
      },
      "source": [
        "Let's clean this by removing NaN values and using a DataFrame instead of a series:"
      ]
    },
    {
      "cell_type": "code",
      "metadata": {
        "id": "-1m5b-zt3pn7",
        "colab_type": "code",
        "colab": {}
      },
      "source": [
        "corr_starwars = pd.DataFrame(similar_to_starwars,columns=['Correlation'])\n",
        "corr_starwars.dropna(inplace=True)\n",
        "corr_starwars.head()"
      ],
      "execution_count": null,
      "outputs": []
    },
    {
      "cell_type": "markdown",
      "metadata": {
        "id": "IJpbE-Sz3s__",
        "colab_type": "text"
      },
      "source": [
        "Now if we sort the dataframe by correlation, we should get the most similar movies, however note that we get some results that don't really make sense. This is because there are a lot of movies only watched once by users who also watched star wars (it was the most popular movie). "
      ]
    },
    {
      "cell_type": "code",
      "metadata": {
        "id": "y41x5i5R3vdI",
        "colab_type": "code",
        "colab": {}
      },
      "source": [
        "corr_starwars.sort_values('Correlation',ascending=False).head(10)"
      ],
      "execution_count": null,
      "outputs": []
    },
    {
      "cell_type": "markdown",
      "metadata": {
        "id": "ZJfWiEYe312u",
        "colab_type": "text"
      },
      "source": [
        "Let's fix this by filtering out movies that have less than 100 reviews (this value was chosen based off the histogram from earlier)."
      ]
    },
    {
      "cell_type": "code",
      "metadata": {
        "id": "-xtAsHOu332x",
        "colab_type": "code",
        "colab": {}
      },
      "source": [
        "corr_starwars = corr_starwars.join(ratings['num of ratings'])\n",
        "corr_starwars.head()"
      ],
      "execution_count": null,
      "outputs": []
    },
    {
      "cell_type": "markdown",
      "metadata": {
        "id": "sNrHyGq036p0",
        "colab_type": "text"
      },
      "source": [
        "Now sort the values and notice how the titles make a lot more sense:"
      ]
    },
    {
      "cell_type": "code",
      "metadata": {
        "id": "4HAvTslP38oO",
        "colab_type": "code",
        "colab": {}
      },
      "source": [
        "corr_starwars[corr_starwars['num of ratings']>100].sort_values('Correlation',ascending=False).head()"
      ],
      "execution_count": null,
      "outputs": []
    },
    {
      "cell_type": "markdown",
      "metadata": {
        "id": "nQjnvDq83_W2",
        "colab_type": "text"
      },
      "source": [
        "Now the same for the comedy Liar Liar:"
      ]
    },
    {
      "cell_type": "code",
      "metadata": {
        "id": "K8GjMKxT4BTh",
        "colab_type": "code",
        "colab": {}
      },
      "source": [
        "corr_liarliar = pd.DataFrame(similar_to_liarliar,columns=['Correlation'])\n",
        "corr_liarliar.dropna(inplace=True)\n",
        "corr_liarliar = corr_liarliar.join(ratings['num of ratings'])\n",
        "corr_liarliar[corr_liarliar['num of ratings']>100].sort_values('Correlation',ascending=False).head()"
      ],
      "execution_count": null,
      "outputs": []
    },
    {
      "cell_type": "markdown",
      "metadata": {
        "id": "ZWeJd9ua4D7i",
        "colab_type": "text"
      },
      "source": [
        "# Great Job!"
      ]
    }
  ]
}